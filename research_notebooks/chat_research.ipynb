{
 "cells": [
  {
   "cell_type": "code",
   "execution_count": 3,
   "metadata": {},
   "outputs": [
    {
     "name": "stderr",
     "output_type": "stream",
     "text": [
      "c:\\Users\\acuca\\anaconda3\\envs\\bibliographic_references_search\\Lib\\site-packages\\tqdm\\auto.py:21: TqdmWarning: IProgress not found. Please update jupyter and ipywidgets. See https://ipywidgets.readthedocs.io/en/stable/user_install.html\n",
      "  from .autonotebook import tqdm as notebook_tqdm\n"
     ]
    }
   ],
   "source": [
    "import yaml\n",
    "from llama_index.llms.gemini import Gemini\n",
    "from llama_index.core.query_engine import CitationQueryEngine\n",
    "from llama_index.core import VectorStoreIndex, ServiceContext\n",
    "from llama_index.readers.semanticscholar import SemanticScholarReader\n",
    "from llama_index.embeddings.gemini import GeminiEmbedding\n",
    "from llama_index.core.agent import ReActAgent"
   ]
  },
  {
   "cell_type": "code",
   "execution_count": 4,
   "metadata": {},
   "outputs": [],
   "source": [
    "# Carregar o arquivo YAML\n",
    "with open('../credentials.yaml', 'r') as file:\n",
    "    credenciais = yaml.safe_load(file)\n",
    "# Acessar as credenciais\n",
    "gemini_api_key = credenciais['gemini_api_key']\n",
    "serpapi_api_key = credenciais['serpapi_api_key']"
   ]
  },
  {
   "cell_type": "code",
   "execution_count": 5,
   "metadata": {},
   "outputs": [
    {
     "name": "stderr",
     "output_type": "stream",
     "text": [
      "C:\\Users\\acuca\\AppData\\Local\\Temp\\ipykernel_7252\\2871267505.py:2: DeprecationWarning: Call to deprecated class method from_defaults. (ServiceContext is deprecated, please use `llama_index.settings.Settings` instead.) -- Deprecated since version 0.10.0.\n",
      "  service_context = ServiceContext.from_defaults(\n"
     ]
    }
   ],
   "source": [
    "llm=Gemini(model_name=\"models/gemini-1.0-pro-001\", api_key=gemini_api_key)\n",
    "service_context = ServiceContext.from_defaults(\n",
    "    llm=llm,\n",
    "    embed_model=GeminiEmbedding(model_name=\"models/embedding-001\", api_key=gemini_api_key)\n",
    ")"
   ]
  },
  {
   "cell_type": "code",
   "execution_count": 6,
   "metadata": {},
   "outputs": [],
   "source": [
    "from google_scholar_tool import GoogleScholarToolSpec\n",
    "from main_theme_extractor_tool import ThemeExtractorTool\n",
    "\n",
    "scholar_tool = GoogleScholarToolSpec(serpapi_api_key).to_tool_list()\n",
    "query_key = ThemeExtractorTool(llm).to_tool_list()\n",
    "\n",
    "tools = scholar_tool + query_key"
   ]
  },
  {
   "cell_type": "code",
   "execution_count": 7,
   "metadata": {},
   "outputs": [],
   "source": [
    "context = \"\"\"\n",
    "You are responsible for summarizing the bibliographical references for a search. \\n\n",
    "You will be given a question and must use the tools available to find the central theme \\n\n",
    "of the search from the query and obtain papers related to that theme. \n",
    "\\n\\n\n",
    "You should respond with:\\n\n",
    "* The answer to the question asked by the user\\n\n",
    "* And the references of all the articles found, including names, authors and access links\n",
    "\"\"\""
   ]
  },
  {
   "cell_type": "code",
   "execution_count": 8,
   "metadata": {},
   "outputs": [],
   "source": [
    "agent = ReActAgent.from_tools(\n",
    "    tools,\n",
    "    llm=llm,\n",
    "    verbose=True,\n",
    "    context=context\n",
    ")"
   ]
  },
  {
   "cell_type": "code",
   "execution_count": 9,
   "metadata": {},
   "outputs": [
    {
     "name": "stdout",
     "output_type": "stream",
     "text": [
      "\u001b[1;3;38;5;200mThought: The current language of the user is: english. I need to use a tool to help me answer the question.\n",
      "Action: extract_theme\n",
      "Action Input: {'query': 'What are the main techniques for segmenting cancer nodules in CT images?'}\n",
      "\u001b[0m\u001b[1;3;34mObservation: cancer nodule segmentation\n",
      "\u001b[0m\u001b[1;3;38;5;200mThought: I need to use a tool to help me answer the question.\n",
      "Action: google_scholar_query\n",
      "Action Input: {'query': 'cancer nodule segmentation', 'num_papers': 5}\n",
      "\u001b[0m\u001b[1;3;34mObservation: [{'title': 'Review on lung nodule segmentation-based lung cancer classification using machine learning approaches', 'abstract': '… had significantly improved lung cancer classification due to better and precise lung and lung nodule segmentation. This improves the overall lung cancer classification with earlier …', 'authors_reviews_year_pub': 'S Shamas, SN Panda, I Sharma - Artificial Intelligence on Medical Data …, 2022 - Springer', 'link': 'https://link.springer.com/chapter/10.1007/978-981-19-0151-5_24'}, {'title': 'A bi-directional deep learning architecture for lung nodule semantic segmentation', 'abstract': '… and efficient lung nodule segmentation method because they need to detect lung cancer at an … 1 explains the research gap in the identification of the lung cancer segmentation nodules. …', 'authors_reviews_year_pub': 'D Bhattacharyya, N Thirupathi Rao, ESN Joshua… - The Visual …, 2023 - Springer', 'link': 'https://link.springer.com/article/10.1007/s00371-022-02657-1'}, {'title': 'Texture appearance model, a new model-based segmentation paradigm, application on the segmentation of lung nodule in the CT scan of the chest', 'abstract': '… However, sometimes in the advanced stage of lung cancer, nodules are probably located near the lung apex, walls, diaphragm, blood vessels, etc., where lung tissue is absent, and …', 'authors_reviews_year_pub': 'F Shariaty, M Orooji, EN Velichko… - Computers in biology and …, 2022 - Elsevier', 'link': 'https://www.sciencedirect.com/science/article/pii/S0010482521008805'}, {'title': 'A hybrid deep learning model for effective segmentation and classification of lung nodules from CT images', 'abstract': '… The objective of this work is to effectively present a novel algorithm for segmentation and classification between cancerous and non-cancerous lung nodules. The initial step in the …', 'authors_reviews_year_pub': 'M Murugesan, K Kaliannan, S Balraj… - Journal of Intelligent …, 2022 - content.iospress.com', 'link': 'https://content.iospress.com/articles/journal-of-intelligent-and-fuzzy-systems/ifs212189'}, {'title': 'Artificial intelligence: A critical review of applications for lung nodule and lung cancer', 'abstract': '… dedicated to automated detection of lung nodules on X-ray and … For lung nodule segmentation, CNN-based algorithms … segmentation, even for irregular and ground glass nodules. A …', 'authors_reviews_year_pub': 'C de Margerie-Mellon, G Chassagnon - Diagnostic and Interventional …, 2023 - Elsevier', 'link': 'https://www.sciencedirect.com/science/article/pii/S221156842200225X'}]\n",
      "\u001b[0m\u001b[1;3;38;5;200mThought: I can answer without using any more tools. I'll use the user's language to answer\n",
      "Answer: The main techniques for segmenting cancer nodules in CT images are:\n",
      "\n",
      "1. **Thresholding:** This technique uses a threshold value to separate the nodule from the surrounding tissue.\n",
      "2. **Region growing:** This technique starts with a seed point inside the nodule and then grows the region by adding neighboring voxels that are similar to the seed point.\n",
      "3. **Clustering:** This technique groups together voxels that are similar to each other and then identifies the cluster that corresponds to the nodule.\n",
      "4. **Machine learning:** This technique uses machine learning algorithms to classify voxels as either belonging to the nodule or not.\n",
      "\u001b[0mThe main techniques for segmenting cancer nodules in CT images are:\n",
      "\n",
      "1. **Thresholding:** This technique uses a threshold value to separate the nodule from the surrounding tissue.\n",
      "2. **Region growing:** This technique starts with a seed point inside the nodule and then grows the region by adding neighboring voxels that are similar to the seed point.\n",
      "3. **Clustering:** This technique groups together voxels that are similar to each other and then identifies the cluster that corresponds to the nodule.\n",
      "4. **Machine learning:** This technique uses machine learning algorithms to classify voxels as either belonging to the nodule or not.\n"
     ]
    }
   ],
   "source": [
    "response = agent.chat(\"What are the main techniques for segmenting cancer nodules in CT images?\")\n",
    ";print(str(response))"
   ]
  },
  {
   "cell_type": "code",
   "execution_count": 21,
   "metadata": {},
   "outputs": [
    {
     "data": {
      "text/plain": [
       "[ToolOutput(content='cancer nodule segmentation', tool_name='extract_theme', raw_input={'args': (), 'kwargs': {'query': 'What are the main techniques for segmenting cancer nodules in CT images?'}}, raw_output='cancer nodule segmentation', is_error=False),\n",
       " ToolOutput(content=\"[{'title': 'Review on lung nodule segmentation-based lung cancer classification using machine learning approaches', 'abstract': '… had significantly improved lung cancer classification due to better and precise lung and lung nodule segmentation. This improves the overall lung cancer classification with earlier …', 'authors_reviews_year_pub': 'S Shamas, SN Panda, I Sharma - Artificial Intelligence on Medical Data …, 2022 - Springer', 'link': 'https://link.springer.com/chapter/10.1007/978-981-19-0151-5_24'}, {'title': 'A bi-directional deep learning architecture for lung nodule semantic segmentation', 'abstract': '… and efficient lung nodule segmentation method because they need to detect lung cancer at an … 1 explains the research gap in the identification of the lung cancer segmentation nodules. …', 'authors_reviews_year_pub': 'D Bhattacharyya, N Thirupathi Rao, ESN Joshua… - The Visual …, 2023 - Springer', 'link': 'https://link.springer.com/article/10.1007/s00371-022-02657-1'}, {'title': 'Texture appearance model, a new model-based segmentation paradigm, application on the segmentation of lung nodule in the CT scan of the chest', 'abstract': '… However, sometimes in the advanced stage of lung cancer, nodules are probably located near the lung apex, walls, diaphragm, blood vessels, etc., where lung tissue is absent, and …', 'authors_reviews_year_pub': 'F Shariaty, M Orooji, EN Velichko… - Computers in biology and …, 2022 - Elsevier', 'link': 'https://www.sciencedirect.com/science/article/pii/S0010482521008805'}, {'title': 'A hybrid deep learning model for effective segmentation and classification of lung nodules from CT images', 'abstract': '… The objective of this work is to effectively present a novel algorithm for segmentation and classification between cancerous and non-cancerous lung nodules. The initial step in the …', 'authors_reviews_year_pub': 'M Murugesan, K Kaliannan, S Balraj… - Journal of Intelligent …, 2022 - content.iospress.com', 'link': 'https://content.iospress.com/articles/journal-of-intelligent-and-fuzzy-systems/ifs212189'}, {'title': 'Artificial intelligence: A critical review of applications for lung nodule and lung cancer', 'abstract': '… dedicated to automated detection of lung nodules on X-ray and … For lung nodule segmentation, CNN-based algorithms … segmentation, even for irregular and ground glass nodules. A …', 'authors_reviews_year_pub': 'C de Margerie-Mellon, G Chassagnon - Diagnostic and Interventional …, 2023 - Elsevier', 'link': 'https://www.sciencedirect.com/science/article/pii/S221156842200225X'}]\", tool_name='google_scholar_query', raw_input={'args': (), 'kwargs': {'query': 'cancer nodule segmentation', 'num_papers': 5}}, raw_output=[{'title': 'Review on lung nodule segmentation-based lung cancer classification using machine learning approaches', 'abstract': '… had significantly improved lung cancer classification due to better and precise lung and lung nodule segmentation. This improves the overall lung cancer classification with earlier …', 'authors_reviews_year_pub': 'S Shamas, SN Panda, I Sharma - Artificial Intelligence on Medical Data …, 2022 - Springer', 'link': 'https://link.springer.com/chapter/10.1007/978-981-19-0151-5_24'}, {'title': 'A bi-directional deep learning architecture for lung nodule semantic segmentation', 'abstract': '… and efficient lung nodule segmentation method because they need to detect lung cancer at an … 1 explains the research gap in the identification of the lung cancer segmentation nodules. …', 'authors_reviews_year_pub': 'D Bhattacharyya, N Thirupathi Rao, ESN Joshua… - The Visual …, 2023 - Springer', 'link': 'https://link.springer.com/article/10.1007/s00371-022-02657-1'}, {'title': 'Texture appearance model, a new model-based segmentation paradigm, application on the segmentation of lung nodule in the CT scan of the chest', 'abstract': '… However, sometimes in the advanced stage of lung cancer, nodules are probably located near the lung apex, walls, diaphragm, blood vessels, etc., where lung tissue is absent, and …', 'authors_reviews_year_pub': 'F Shariaty, M Orooji, EN Velichko… - Computers in biology and …, 2022 - Elsevier', 'link': 'https://www.sciencedirect.com/science/article/pii/S0010482521008805'}, {'title': 'A hybrid deep learning model for effective segmentation and classification of lung nodules from CT images', 'abstract': '… The objective of this work is to effectively present a novel algorithm for segmentation and classification between cancerous and non-cancerous lung nodules. The initial step in the …', 'authors_reviews_year_pub': 'M Murugesan, K Kaliannan, S Balraj… - Journal of Intelligent …, 2022 - content.iospress.com', 'link': 'https://content.iospress.com/articles/journal-of-intelligent-and-fuzzy-systems/ifs212189'}, {'title': 'Artificial intelligence: A critical review of applications for lung nodule and lung cancer', 'abstract': '… dedicated to automated detection of lung nodules on X-ray and … For lung nodule segmentation, CNN-based algorithms … segmentation, even for irregular and ground glass nodules. A …', 'authors_reviews_year_pub': 'C de Margerie-Mellon, G Chassagnon - Diagnostic and Interventional …, 2023 - Elsevier', 'link': 'https://www.sciencedirect.com/science/article/pii/S221156842200225X'}], is_error=False)]"
      ]
     },
     "execution_count": 21,
     "metadata": {},
     "output_type": "execute_result"
    }
   ],
   "source": [
    "response.sources"
   ]
  },
  {
   "cell_type": "code",
   "execution_count": 36,
   "metadata": {},
   "outputs": [
    {
     "name": "stdout",
     "output_type": "stream",
     "text": [
      "Review on lung nodule segmentation-based lung cancer classification using machine learning approaches\n",
      "\n",
      "S Shamas, SN Panda, I Sharma - Artificial Intelligence on Medical Data …, 2022 - Springer\n",
      "\n",
      "https://link.springer.com/chapter/10.1007/978-981-19-0151-5_24\n",
      "A bi-directional deep learning architecture for lung nodule semantic segmentation\n",
      "\n",
      "D Bhattacharyya, N Thirupathi Rao, ESN Joshua… - The Visual …, 2023 - Springer\n",
      "\n",
      "https://link.springer.com/article/10.1007/s00371-022-02657-1\n",
      "Texture appearance model, a new model-based segmentation paradigm, application on the segmentation of lung nodule in the CT scan of the chest\n",
      "\n",
      "F Shariaty, M Orooji, EN Velichko… - Computers in biology and …, 2022 - Elsevier\n",
      "\n",
      "https://www.sciencedirect.com/science/article/pii/S0010482521008805\n",
      "A hybrid deep learning model for effective segmentation and classification of lung nodules from CT images\n",
      "\n",
      "M Murugesan, K Kaliannan, S Balraj… - Journal of Intelligent …, 2022 - content.iospress.com\n",
      "\n",
      "https://content.iospress.com/articles/journal-of-intelligent-and-fuzzy-systems/ifs212189\n",
      "Artificial intelligence: A critical review of applications for lung nodule and lung cancer\n",
      "\n",
      "C de Margerie-Mellon, G Chassagnon - Diagnostic and Interventional …, 2023 - Elsevier\n",
      "\n",
      "https://www.sciencedirect.com/science/article/pii/S221156842200225X\n"
     ]
    }
   ],
   "source": [
    "for tool in response.sources:\n",
    "    if tool.tool_name == 'google_scholar_query':\n",
    "        for ref in tool.raw_output:\n",
    "            \n",
    "            ref_str = f\"{ref['title']}\\n\\n{ref['authors_reviews_year_pub']}\\n\\n{ref['link']}\"\n",
    "            print(ref_str)"
   ]
  },
  {
   "cell_type": "code",
   "execution_count": null,
   "metadata": {},
   "outputs": [],
   "source": []
  }
 ],
 "metadata": {
  "kernelspec": {
   "display_name": "bibliographic_references_search",
   "language": "python",
   "name": "python3"
  },
  "language_info": {
   "codemirror_mode": {
    "name": "ipython",
    "version": 3
   },
   "file_extension": ".py",
   "mimetype": "text/x-python",
   "name": "python",
   "nbconvert_exporter": "python",
   "pygments_lexer": "ipython3",
   "version": "3.12.3"
  }
 },
 "nbformat": 4,
 "nbformat_minor": 2
}
